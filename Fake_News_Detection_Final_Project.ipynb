{
  "nbformat": 4,
  "nbformat_minor": 0,
  "metadata": {
    "colab": {
      "provenance": []
    },
    "kernelspec": {
      "name": "python3",
      "display_name": "Python 3"
    },
    "language_info": {
      "name": "python"
    }
  },
  "cells": [
    {
      "cell_type": "code",
      "source": [
        "import pandas as pd\n",
        "from sklearn.feature_extraction.text import TfidfVectorizer\n",
        "from sklearn.tree import DecisionTreeClassifier\n",
        "from sklearn.svm import SVC\n",
        "from sklearn.naive_bayes import MultinomialNB\n",
        "from sklearn.metrics import accuracy_score, confusion_matrix, classification_report\n",
        "from sklearn.model_selection import train_test_split\n",
        "import matplotlib.pyplot as plt"
      ],
      "metadata": {
        "id": "1s_g1DPaY09v"
      },
      "execution_count": null,
      "outputs": []
    },
    {
      "cell_type": "code",
      "source": [
        "# Load the dataset\n",
        "df = pd.read_csv('/content/final_bn_data.csv')\n",
        "\n",
        "#Get shape and head\n",
        "df.shape\n",
        "df.head(10)"
      ],
      "metadata": {
        "colab": {
          "base_uri": "https://localhost:8080/",
          "height": 441
        },
        "id": "KnN9Kpk3Y2Vn",
        "outputId": "a2eec3e2-242d-41d8-c91e-90298a48db87"
      },
      "execution_count": null,
      "outputs": [
        {
          "output_type": "execute_result",
          "data": {
            "text/plain": [
              "        category                                           headline  \\\n",
              "0       National                                 ৮ দিনে ১৮ বিল পাস!   \n",
              "1         Sports       আ’লীগের জনসভায় লোকে লোকারণ্য ফেনী ট্রাংক রোড   \n",
              "2       National     মাদ্রাসায় জোড়া খুন: পরিচালক তিন দিনের রিমান্ডে   \n",
              "3         Sports           নেপালকে হারিয়ে গ্রুপ চ্যাম্পিয়ন বাংলাদেশ   \n",
              "4       National                কুড়িগ্রামে ২ শিক্ষার্থীর লাশ উদ্ধার   \n",
              "5       National  মেহেরপুরে দ্বিতীয় শ্রেণির দুই ছাত্রীকে ধর্ষনের...   \n",
              "6        Finance   সিলভা ফার্মায় ২৮ টাকা মুনাফা পেলেন বিনিয়োগকারীরা   \n",
              "7  Entertainment             এবারেও ঈদে গান শোনাবেন মাহফুজুর রহমান!   \n",
              "8      Editorial  প্রথম কার্যদিবসেই ৭৫২ কোটি টাকার প্রকল্পে স্বা...   \n",
              "9         Sports                     চার গোল করেও খুশি নন এমবাপ্পে!   \n",
              "\n",
              "                                             content  label  \n",
              "0  দশম জাতীয় সংসদের মেয়াদ শেষ হয়ে যাচ্ছে। কার্যত ...    0.0  \n",
              "1  একাদশ জাতীয় সংসদ নির্বাচনকে সামনে রেখে সাংগঠনি...    0.0  \n",
              "2  গাজীপুরে জোড়া খুন মামলার প্রধান আসামি মাদ্রাসা...    0.0  \n",
              "3  সাফ অনূর্ধ্ব-১৮ নারী ফুটবল চ্যাম্পিয়নশিপে নেপা...    1.0  \n",
              "4  কুড়িগ্রাম প্রতিনিধি : কুড়িগ্রাম সদর উপজেলার বে...    1.0  \n",
              "5  মেহেরপুর সদর উপজেলার কুতুবপুর গ্রামে দ্বিতীয় শ...    1.0  \n",
              "6  ঢাকা: পুঁজিবাজারে লেনদেনের প্রথম কার্যদিবসে সি...    1.0  \n",
              "7  এবারের ঈদেও টেলিভিশনের পর্দায় গান গাইবেন ড. ম...    0.0  \n",
              "8  প্রথম কর্মদিবসে ৭৫২ কোটি টাকার উন্নয়ন প্রকল্পে...    1.0  \n",
              "9  পিএসজি জিতেছে ৫-০ গোলে। লিওঁর বিপক্ষে এই ম্যাচ...    1.0  "
            ],
            "text/html": [
              "\n",
              "  <div id=\"df-49695a53-fc72-4c6d-aef2-75a28eee944b\">\n",
              "    <div class=\"colab-df-container\">\n",
              "      <div>\n",
              "<style scoped>\n",
              "    .dataframe tbody tr th:only-of-type {\n",
              "        vertical-align: middle;\n",
              "    }\n",
              "\n",
              "    .dataframe tbody tr th {\n",
              "        vertical-align: top;\n",
              "    }\n",
              "\n",
              "    .dataframe thead th {\n",
              "        text-align: right;\n",
              "    }\n",
              "</style>\n",
              "<table border=\"1\" class=\"dataframe\">\n",
              "  <thead>\n",
              "    <tr style=\"text-align: right;\">\n",
              "      <th></th>\n",
              "      <th>category</th>\n",
              "      <th>headline</th>\n",
              "      <th>content</th>\n",
              "      <th>label</th>\n",
              "    </tr>\n",
              "  </thead>\n",
              "  <tbody>\n",
              "    <tr>\n",
              "      <th>0</th>\n",
              "      <td>National</td>\n",
              "      <td>৮ দিনে ১৮ বিল পাস!</td>\n",
              "      <td>দশম জাতীয় সংসদের মেয়াদ শেষ হয়ে যাচ্ছে। কার্যত ...</td>\n",
              "      <td>0.0</td>\n",
              "    </tr>\n",
              "    <tr>\n",
              "      <th>1</th>\n",
              "      <td>Sports</td>\n",
              "      <td>আ’লীগের জনসভায় লোকে লোকারণ্য ফেনী ট্রাংক রোড</td>\n",
              "      <td>একাদশ জাতীয় সংসদ নির্বাচনকে সামনে রেখে সাংগঠনি...</td>\n",
              "      <td>0.0</td>\n",
              "    </tr>\n",
              "    <tr>\n",
              "      <th>2</th>\n",
              "      <td>National</td>\n",
              "      <td>মাদ্রাসায় জোড়া খুন: পরিচালক তিন দিনের রিমান্ডে</td>\n",
              "      <td>গাজীপুরে জোড়া খুন মামলার প্রধান আসামি মাদ্রাসা...</td>\n",
              "      <td>0.0</td>\n",
              "    </tr>\n",
              "    <tr>\n",
              "      <th>3</th>\n",
              "      <td>Sports</td>\n",
              "      <td>নেপালকে হারিয়ে গ্রুপ চ্যাম্পিয়ন বাংলাদেশ</td>\n",
              "      <td>সাফ অনূর্ধ্ব-১৮ নারী ফুটবল চ্যাম্পিয়নশিপে নেপা...</td>\n",
              "      <td>1.0</td>\n",
              "    </tr>\n",
              "    <tr>\n",
              "      <th>4</th>\n",
              "      <td>National</td>\n",
              "      <td>কুড়িগ্রামে ২ শিক্ষার্থীর লাশ উদ্ধার</td>\n",
              "      <td>কুড়িগ্রাম প্রতিনিধি : কুড়িগ্রাম সদর উপজেলার বে...</td>\n",
              "      <td>1.0</td>\n",
              "    </tr>\n",
              "    <tr>\n",
              "      <th>5</th>\n",
              "      <td>National</td>\n",
              "      <td>মেহেরপুরে দ্বিতীয় শ্রেণির দুই ছাত্রীকে ধর্ষনের...</td>\n",
              "      <td>মেহেরপুর সদর উপজেলার কুতুবপুর গ্রামে দ্বিতীয় শ...</td>\n",
              "      <td>1.0</td>\n",
              "    </tr>\n",
              "    <tr>\n",
              "      <th>6</th>\n",
              "      <td>Finance</td>\n",
              "      <td>সিলভা ফার্মায় ২৮ টাকা মুনাফা পেলেন বিনিয়োগকারীরা</td>\n",
              "      <td>ঢাকা: পুঁজিবাজারে লেনদেনের প্রথম কার্যদিবসে সি...</td>\n",
              "      <td>1.0</td>\n",
              "    </tr>\n",
              "    <tr>\n",
              "      <th>7</th>\n",
              "      <td>Entertainment</td>\n",
              "      <td>এবারেও ঈদে গান শোনাবেন মাহফুজুর রহমান!</td>\n",
              "      <td>এবারের ঈদেও টেলিভিশনের পর্দায় গান গাইবেন ড. ম...</td>\n",
              "      <td>0.0</td>\n",
              "    </tr>\n",
              "    <tr>\n",
              "      <th>8</th>\n",
              "      <td>Editorial</td>\n",
              "      <td>প্রথম কার্যদিবসেই ৭৫২ কোটি টাকার প্রকল্পে স্বা...</td>\n",
              "      <td>প্রথম কর্মদিবসে ৭৫২ কোটি টাকার উন্নয়ন প্রকল্পে...</td>\n",
              "      <td>1.0</td>\n",
              "    </tr>\n",
              "    <tr>\n",
              "      <th>9</th>\n",
              "      <td>Sports</td>\n",
              "      <td>চার গোল করেও খুশি নন এমবাপ্পে!</td>\n",
              "      <td>পিএসজি জিতেছে ৫-০ গোলে। লিওঁর বিপক্ষে এই ম্যাচ...</td>\n",
              "      <td>1.0</td>\n",
              "    </tr>\n",
              "  </tbody>\n",
              "</table>\n",
              "</div>\n",
              "      <button class=\"colab-df-convert\" onclick=\"convertToInteractive('df-49695a53-fc72-4c6d-aef2-75a28eee944b')\"\n",
              "              title=\"Convert this dataframe to an interactive table.\"\n",
              "              style=\"display:none;\">\n",
              "        \n",
              "  <svg xmlns=\"http://www.w3.org/2000/svg\" height=\"24px\"viewBox=\"0 0 24 24\"\n",
              "       width=\"24px\">\n",
              "    <path d=\"M0 0h24v24H0V0z\" fill=\"none\"/>\n",
              "    <path d=\"M18.56 5.44l.94 2.06.94-2.06 2.06-.94-2.06-.94-.94-2.06-.94 2.06-2.06.94zm-11 1L8.5 8.5l.94-2.06 2.06-.94-2.06-.94L8.5 2.5l-.94 2.06-2.06.94zm10 10l.94 2.06.94-2.06 2.06-.94-2.06-.94-.94-2.06-.94 2.06-2.06.94z\"/><path d=\"M17.41 7.96l-1.37-1.37c-.4-.4-.92-.59-1.43-.59-.52 0-1.04.2-1.43.59L10.3 9.45l-7.72 7.72c-.78.78-.78 2.05 0 2.83L4 21.41c.39.39.9.59 1.41.59.51 0 1.02-.2 1.41-.59l7.78-7.78 2.81-2.81c.8-.78.8-2.07 0-2.86zM5.41 20L4 18.59l7.72-7.72 1.47 1.35L5.41 20z\"/>\n",
              "  </svg>\n",
              "      </button>\n",
              "      \n",
              "  <style>\n",
              "    .colab-df-container {\n",
              "      display:flex;\n",
              "      flex-wrap:wrap;\n",
              "      gap: 12px;\n",
              "    }\n",
              "\n",
              "    .colab-df-convert {\n",
              "      background-color: #E8F0FE;\n",
              "      border: none;\n",
              "      border-radius: 50%;\n",
              "      cursor: pointer;\n",
              "      display: none;\n",
              "      fill: #1967D2;\n",
              "      height: 32px;\n",
              "      padding: 0 0 0 0;\n",
              "      width: 32px;\n",
              "    }\n",
              "\n",
              "    .colab-df-convert:hover {\n",
              "      background-color: #E2EBFA;\n",
              "      box-shadow: 0px 1px 2px rgba(60, 64, 67, 0.3), 0px 1px 3px 1px rgba(60, 64, 67, 0.15);\n",
              "      fill: #174EA6;\n",
              "    }\n",
              "\n",
              "    [theme=dark] .colab-df-convert {\n",
              "      background-color: #3B4455;\n",
              "      fill: #D2E3FC;\n",
              "    }\n",
              "\n",
              "    [theme=dark] .colab-df-convert:hover {\n",
              "      background-color: #434B5C;\n",
              "      box-shadow: 0px 1px 3px 1px rgba(0, 0, 0, 0.15);\n",
              "      filter: drop-shadow(0px 1px 2px rgba(0, 0, 0, 0.3));\n",
              "      fill: #FFFFFF;\n",
              "    }\n",
              "  </style>\n",
              "\n",
              "      <script>\n",
              "        const buttonEl =\n",
              "          document.querySelector('#df-49695a53-fc72-4c6d-aef2-75a28eee944b button.colab-df-convert');\n",
              "        buttonEl.style.display =\n",
              "          google.colab.kernel.accessAllowed ? 'block' : 'none';\n",
              "\n",
              "        async function convertToInteractive(key) {\n",
              "          const element = document.querySelector('#df-49695a53-fc72-4c6d-aef2-75a28eee944b');\n",
              "          const dataTable =\n",
              "            await google.colab.kernel.invokeFunction('convertToInteractive',\n",
              "                                                     [key], {});\n",
              "          if (!dataTable) return;\n",
              "\n",
              "          const docLinkHtml = 'Like what you see? Visit the ' +\n",
              "            '<a target=\"_blank\" href=https://colab.research.google.com/notebooks/data_table.ipynb>data table notebook</a>'\n",
              "            + ' to learn more about interactive tables.';\n",
              "          element.innerHTML = '';\n",
              "          dataTable['output_type'] = 'display_data';\n",
              "          await google.colab.output.renderOutput(dataTable, element);\n",
              "          const docLink = document.createElement('div');\n",
              "          docLink.innerHTML = docLinkHtml;\n",
              "          element.appendChild(docLink);\n",
              "        }\n",
              "      </script>\n",
              "    </div>\n",
              "  </div>\n",
              "  "
            ]
          },
          "metadata": {},
          "execution_count": 24
        }
      ]
    },
    {
      "cell_type": "code",
      "source": [
        "labels = df.label.value_counts()\n",
        "plt.bar(labels.index, labels.values)\n",
        "plt.title(\"Distribution of Labels\")\n",
        "plt.xlabel(\"Label\")\n",
        "plt.ylabel(\"Count\")\n",
        "plt.show()"
      ],
      "metadata": {
        "colab": {
          "base_uri": "https://localhost:8080/",
          "height": 472
        },
        "id": "g-cq1cnIY6cq",
        "outputId": "311f367f-d6a8-4df9-ab2e-bd7e0dbbbb6b"
      },
      "execution_count": null,
      "outputs": [
        {
          "output_type": "display_data",
          "data": {
            "text/plain": [
              "<Figure size 640x480 with 1 Axes>"
            ],
            "image/png": "[encoded data removed]"
          },
          "metadata": {}
        }
      ]
    },
    {
      "cell_type": "code",
      "source": [
        "# Split the dataset into training and testing sets\n",
        "X_train, X_test, y_train, y_test = train_test_split(df['content'], df['label'], test_size=0.2, random_state=42)"
      ],
      "metadata": {
        "id": "duUtET1mY6Y9"
      },
      "execution_count": null,
      "outputs": []
    },
    {
      "cell_type": "code",
      "source": [
        "# Vectorize the text data using TF-IDF\n",
        "tfidf = TfidfVectorizer(stop_words='english')\n",
        "X_train_tfidf = tfidf.fit_transform(X_train)\n",
        "X_test_tfidf = tfidf.transform(X_test)"
      ],
      "metadata": {
        "id": "_XI8xGbMY6VZ"
      },
      "execution_count": null,
      "outputs": []
    },
    {
      "cell_type": "code",
      "source": [
        "# Train and test the Decision tree classifier\n",
        "dtc = DecisionTreeClassifier()\n",
        "dtc.fit(X_train_tfidf, y_train)\n",
        "y_pred_dtc = dtc.predict(X_test_tfidf)\n",
        "print('Accuracy score (Decision tree):', accuracy_score(y_test, y_pred_dtc))\n",
        "print('Confusion matrix (Decision tree):\\n', confusion_matrix(y_test, y_pred_dtc))\n",
        "print('Classification report (Decision tree):\\n', classification_report(y_test, y_pred_dtc))"
      ],
      "metadata": {
        "colab": {
          "base_uri": "https://localhost:8080/"
        },
        "id": "NtwLzNmpY6Sg",
        "outputId": "0d358067-885e-4b47-d737-c63e28be4df3"
      },
      "execution_count": null,
      "outputs": [
        {
          "output_type": "stream",
          "name": "stdout",
          "text": [
            "Accuracy score (Decision tree): 0.6736588720770289\n",
            "Confusion matrix (Decision tree):\n",
            " [[ 444  502]\n",
            " [ 447 1515]]\n",
            "Classification report (Decision tree):\n",
            "               precision    recall  f1-score   support\n",
            "\n",
            "         0.0       0.50      0.47      0.48       946\n",
            "         1.0       0.75      0.77      0.76      1962\n",
            "\n",
            "    accuracy                           0.67      2908\n",
            "   macro avg       0.62      0.62      0.62      2908\n",
            "weighted avg       0.67      0.67      0.67      2908\n",
            "\n"
          ]
        }
      ]
    },
    {
      "cell_type": "code",
      "source": [
        "# Train and test the SVM classifier\n",
        "svm = SVC()\n",
        "svm.fit(X_train_tfidf, y_train)\n",
        "y_pred_svm = svm.predict(X_test_tfidf)\n",
        "print('Accuracy score (SVM):', accuracy_score(y_test, y_pred_svm))\n",
        "print('Confusion matrix (SVM):\\n', confusion_matrix(y_test, y_pred_svm))\n",
        "print('Classification report (SVM):\\n', classification_report(y_test, y_pred_svm))"
      ],
      "metadata": {
        "colab": {
          "base_uri": "https://localhost:8080/"
        },
        "id": "KrXvrFakY6Ox",
        "outputId": "200f7d23-f559-4647-98de-995c2ea65fb6"
      },
      "execution_count": null,
      "outputs": [
        {
          "output_type": "stream",
          "name": "stdout",
          "text": [
            "Accuracy score (SVM): 0.7506877579092159\n",
            "Confusion matrix (SVM):\n",
            " [[ 349  597]\n",
            " [ 128 1834]]\n",
            "Classification report (SVM):\n",
            "               precision    recall  f1-score   support\n",
            "\n",
            "         0.0       0.73      0.37      0.49       946\n",
            "         1.0       0.75      0.93      0.83      1962\n",
            "\n",
            "    accuracy                           0.75      2908\n",
            "   macro avg       0.74      0.65      0.66      2908\n",
            "weighted avg       0.75      0.75      0.72      2908\n",
            "\n"
          ]
        }
      ]
    },
    {
      "cell_type": "code",
      "source": [
        "\n",
        "# Train and test the Naive Bayes classifier\n",
        "nb = MultinomialNB()\n",
        "nb.fit(X_train_tfidf, y_train)\n",
        "y_pred_nb = nb.predict(X_test_tfidf)\n",
        "print('Accuracy score (Naive Bayes):', accuracy_score(y_test, y_pred_nb))\n",
        "print('Confusion matrix (Naive Bayes):\\n', confusion_matrix(y_test, y_pred_nb))\n",
        "print('Classification report (Naive Bayes):\\n', classification_report(y_test, y_pred_nb))"
      ],
      "metadata": {
        "colab": {
          "base_uri": "https://localhost:8080/"
        },
        "id": "mc8UtdnjZRkP",
        "outputId": "d6450386-2e99-40c1-8539-9406e4caf47d"
      },
      "execution_count": null,
      "outputs": [
        {
          "output_type": "stream",
          "name": "stdout",
          "text": [
            "Accuracy score (Naive Bayes): 0.6936038514442916\n",
            "Confusion matrix (Naive Bayes):\n",
            " [[  60  886]\n",
            " [   5 1957]]\n",
            "Classification report (Naive Bayes):\n",
            "               precision    recall  f1-score   support\n",
            "\n",
            "         0.0       0.92      0.06      0.12       946\n",
            "         1.0       0.69      1.00      0.81      1962\n",
            "\n",
            "    accuracy                           0.69      2908\n",
            "   macro avg       0.81      0.53      0.47      2908\n",
            "weighted avg       0.76      0.69      0.59      2908\n",
            "\n"
          ]
        }
      ]
    },
    {
      "cell_type": "code",
      "source": [
        "#labels = df.label.value_counts()\n",
        "plt.bar([\"DT\", \"SVM\", \"NB\"], [67.43, 75.43, 69.98])\n",
        "plt.title(\"Accuracy comparison\")\n",
        "plt.xlabel(\"Label\")\n",
        "plt.ylabel(\"Count\")\n",
        "plt.show()"
      ],
      "metadata": {
        "colab": {
          "base_uri": "https://localhost:8080/",
          "height": 472
        },
        "id": "RduNi5GNZRer",
        "outputId": "ce6b1032-e824-46a3-96b4-38fbb1de9138"
      },
      "execution_count": null,
      "outputs": [
        {
          "output_type": "display_data",
          "data": {
            "text/plain": [
              "<Figure size 640x480 with 1 Axes>"
            ],
            "image/png": "[encoded data removed]"
          },
          "metadata": {}
        }
      ]
    },
    {
      "cell_type": "code",
      "source": [],
      "metadata": {
        "id": "SonbFtRuHgOH"
      },
      "execution_count": null,
      "outputs": []
    }
  ]
}